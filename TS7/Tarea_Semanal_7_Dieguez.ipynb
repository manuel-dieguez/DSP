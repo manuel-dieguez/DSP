{
 "cells": [
  {
   "cell_type": "markdown",
   "id": "f3baf0dc-ffed-489d-84af-af15ddf7cd54",
   "metadata": {},
   "source": [
    "<img src=\"../logo_UTN.svg\" align=\"right\" width=\"200\" /> \n",
    "\n",
    "# Tarea semanal 7\n",
    "## Manuel Dieguez"
   ]
  },
  {
   "cell_type": "markdown",
   "id": "c84166c7-547c-4e8b-ab9d-80cd03974627",
   "metadata": {},
   "source": [
    "# ¿Que vamos a estudiar en esta tarea?\n",
    "\n",
    "Cuando tomamos una o varias muestras de una senal, como por ejemplo en un electrocardiograma, podemos observar que el espectro de cada muestra es diferente, esto es asi ya que la FFT funciona como un estimador. Vamos a comparar resultados de diferentes estimadores vistos en la teoria.\n",
    "\n",
    "Para esto, vamos a trabajar con la potencia espectral como estimador, para finalmente, tratar de estimar el Ancho de banda de la senal medida\n",
    "\n",
    "Vamos a utilizar una senal de audio para esto"
   ]
  },
  {
   "cell_type": "code",
   "execution_count": 1,
   "id": "9d8a0803-b3fc-4024-967e-cc3279f64132",
   "metadata": {},
   "outputs": [
    {
     "name": "stderr",
     "output_type": "stream",
     "text": [
      "/home/manuel/.local/lib/python3.10/site-packages/matplotlib/projections/__init__.py:63: UserWarning: Unable to import Axes3D. This may be due to multiple versions of Matplotlib being installed (e.g. as a system package and as a pip package). As a result, the 3D projection is not available.\n",
      "  warnings.warn(\"Unable to import Axes3D. This may be due to multiple versions of \"\n"
     ]
    }
   ],
   "source": [
    "import numpy as np\n",
    "import scipy as sc\n",
    "import matplotlib.pyplot as plt\n",
    "from bartlett_periodogram import *\n",
    "import scipy.io as sio\n",
    "from scipy.io.wavfile import write"
   ]
  },
  {
   "cell_type": "code",
   "execution_count": null,
   "id": "0d76aa13-6808-4cc1-a8e1-46f7bab03e7b",
   "metadata": {},
   "outputs": [],
   "source": [
    "def bartlett_periodogram(x, fs, segment_size):\n",
    "    \"\"\"\n",
    "    Calcula el periodograma de Bartlett para una señal x.\n",
    "\n",
    "    Parámetros:\n",
    "    - x: Señal de entrada (1D)\n",
    "    - fs: Frecuencia de muestreo\n",
    "    - segment_size: Tamaño de cada segmento\n",
    "    \n",
    "    Retorna:\n",
    "    - f: Vector de frecuencias\n",
    "    - Pxx: PSD estimada\n",
    "    \"\"\"\n",
    "    # Número de segmentos\n",
    "    num_segments = len(x) // segment_size\n",
    "\n",
    "    # Inicializamos el acumulador de PSD\n",
    "    Pxx = np.zeros(segment_size)\n",
    "\n",
    "    # Calculamos el periodograma para cada segmento\n",
    "    for i in range(num_segments):\n",
    "        segment = x[i * segment_size:(i + 1) * segment_size]\n",
    "        X = np.fft.fft(segment)  # FFT del segmento\n",
    "        Pxx_segment = (np.abs(X[:segment_size]) ** 2) / segment_size  # PSD del segmento\n",
    "        Pxx += Pxx_segment  # Acumulamos la PSD\n",
    "\n",
    "    # Promediamos la PSD sobre los segmentos\n",
    "    Pxx /= num_segments\n",
    "\n",
    "    # Frecuencias correspondientes\n",
    "    f = np.fft.fftfreq(segment_size, d=1/fs)[:segment_size]\n",
    "\n",
    "    return f, Pxx"
   ]
  },
  {
   "cell_type": "markdown",
   "id": "27583811-7bfc-4f6b-a52b-e8212655e1c4",
   "metadata": {},
   "source": [
    "Primero vamos a extraer la senal y realizar un periodograma para estimar la potencia espectral\n"
   ]
  },
  {
   "cell_type": "code",
   "execution_count": null,
   "id": "afdb74eb-f7fe-4564-91f0-d8c3d5bc5338",
   "metadata": {},
   "outputs": [],
   "source": [
    "## Extraemos la senal de audio del archivo\n",
    "\n",
    "fs_audio, wav_data = sio.wavfile.read('la cucaracha.wav')\n",
    "\n",
    "## Realicemos un periodogrma de la senal\n",
    "\n",
    "N = len(wav_data)\n",
    "freqs = np.fft.fftfreq(N,d= 1/fs_audio)\n",
    "\n",
    "t = np.linspace(0, N/fs_audio, N )\n",
    "plt.figure(1)\n",
    "plt.xlabel(\"Tiempo [s]\")\n",
    "plt.ylabel(\"Amplitud\")\n",
    "plt.title(\"Audio en el tiempo\")\n",
    "plt.plot(t,wav_data)\n",
    "plt.grid()\n",
    "plt.show()\n",
    "\n",
    "fft_audio = np.fft.fft(wav_data)\n",
    "per_audio = np.abs(fft_audio)**2/N\n",
    "\n",
    "plt.figure(2)\n",
    "plt.title(\"Periodograma\")\n",
    "plt.xlabel(\"Frecuencias [Hz]\")\n",
    "plt.ylabel(r\"Amplitud $ \\frac{1}{N} |X(f)|^{2} $\")  ## Revisar LaTex\n",
    "plt.plot(freqs[:N//2],10*np.log10(per_audio[:N//2]))\n",
    "plt.grid()\n",
    "plt.show()\n"
   ]
  },
  {
   "cell_type": "markdown",
   "id": "a029760d-c032-4e0c-b8a3-baeae255e5d7",
   "metadata": {},
   "source": [
    "Ahora vamos a agregar un ventaneo a la senal, usando una ventana de Blackman"
   ]
  },
  {
   "cell_type": "code",
   "execution_count": null,
   "id": "0a253d4c-eb5d-46a7-af2f-b5850eb09eab",
   "metadata": {},
   "outputs": [],
   "source": [
    "## Procedemos a realizar un Periodograma ventaneado\n",
    "\n",
    "window_blackman = np.blackman(N)\n",
    "fft_audio_per_vent = np.fft.fft(wav_data*window_blackman)\n",
    "per_vent_audio = np.abs(fft_audio_per_vent)**2/N\n",
    "\n",
    "plt.figure(3)\n",
    "plt.title(\"Periodograma Ventaneado\")\n",
    "plt.xlabel(\"Frecuencias\")\n",
    "plt.ylabel(r\"Amplitud $\\frac{1}{N}|X(f)|^{2}$\")  ## Revisar LaTex\n",
    "plt.plot(freqs[:N//2],10*np.log10(per_vent_audio[:N//2]))\n",
    "plt.grid()\n",
    "plt.show()"
   ]
  },
  {
   "cell_type": "markdown",
   "id": "871799e4-72c2-4322-9e88-155f45d531e9",
   "metadata": {},
   "source": [
    "Ahora, vamos a realizar una estimacion por metodo de Bartlett, que consiste en subdivir la muestra en varios segmentos, calcular el periodograma de cada uno y promediar"
   ]
  },
  {
   "cell_type": "code",
   "execution_count": null,
   "id": "8c737182-7fa2-4912-ab0b-14a4b91887e6",
   "metadata": {},
   "outputs": [],
   "source": [
    "## Metodo de Bartlett\n",
    "\n",
    "segment_size = int(N/24)\n",
    "[freqs_bartlett, fft_bartlett] = bartlett_periodogram(wav_data, fs_audio, segment_size)\n",
    "N_bartlett = len(freqs_bartlett)\n",
    "\n",
    "plt.figure(4)\n",
    "plt.title(\"Periodograma Bartlett\")\n",
    "plt.xlabel(\"Frecuencias\")\n",
    "plt.ylabel(f\"Amplitud\")  ## Revisar LaTex\n",
    "plt.plot(freqs_bartlett[:N_bartlett//2],10*np.log10(fft_bartlett[:N_bartlett//2]))\n",
    "plt.grid()\n",
    "plt.show()"
   ]
  },
  {
   "cell_type": "markdown",
   "id": "63e8b8cf-121a-4661-bca6-345931d77b71",
   "metadata": {},
   "source": [
    "Podemos ver como se reduce  la varianza en cada frecuencia, viendo ese suavizado en la FFT. Hay que ser consciente de que este metodo empeora la resolucion, tienendo que elegir entre varianza y resolucion"
   ]
  },
  {
   "cell_type": "markdown",
   "id": "0f36aa7d-f621-4fd0-ad05-79b7b7207fae",
   "metadata": {},
   "source": [
    "Por ultimo, vamos a utilizar el metodo de Welch. El mismo requiere armar diferentes bloques a partir de una muestra, las mismas pueden estar solapadas ya que se pueden considerar  de diferentes muestras si el proceso es estacionario en sentido amplio. A su vez, cada muestra se ventanea, lo que ayuda a reducir el sesgo"
   ]
  },
  {
   "cell_type": "code",
   "execution_count": null,
   "id": "fc41e232-52d4-422b-87c0-bf7230ee96f5",
   "metadata": {},
   "outputs": [],
   "source": [
    "w=24  ## Numero de ventanas \n",
    "[freqs_welch, fft_welch] = sc.signal.welch(wav_data, fs_audio, window = \"hann\", nperseg = int(N/w))\n",
    "\n",
    "plt.figure(5)\n",
    "plt.title(\"Welch\")\n",
    "plt.xlabel(\"Frecuencias\")\n",
    "plt.ylabel(f\"Amplitud\")  ## Revisar LaTex\n",
    "plt.plot(freqs_welch,10*np.log10(fft_welch))\n",
    "plt.grid()\n",
    "plt.show()"
   ]
  },
  {
   "cell_type": "markdown",
   "id": "f9f0ede0-8f90-4209-829d-c32397dcae11",
   "metadata": {},
   "source": [
    " ## Calculo del ancho de banda\n",
    "\n",
    " Vamos a buscar estimar el ancho de banda de la senal, tomando cierto porcentaje de la potencia de la senal a partir de nuestra estimacion de potencia"
   ]
  },
  {
   "cell_type": "code",
   "execution_count": null,
   "id": "435c207d-dff7-43a3-aa38-84bef2676356",
   "metadata": {},
   "outputs": [],
   "source": [
    "## Tomamos el BW a partir de Welch\n",
    "\n",
    "BW_total_pow = 0.7\n",
    "sumatoria = 0\n",
    "\n",
    "per_norm = fft_welch/np.sum(np.abs(fft_welch))\n",
    "\n",
    "for i in range(0,len(fft_welch)):\n",
    "    sumatoria += np.abs(per_norm[i])\n",
    "    index_bw = i\n",
    "    if sumatoria >= BW_total_pow:\n",
    "        break\n",
    "\n",
    "BW = freqs_welch[i]\n",
    "fft_filter = np.zeros_like(fft_audio)\n",
    "fft_filter[:index_bw*w] = fft_audio[:w*index_bw] ## w para reajustar lo que se achico el indice en welch\n",
    "\n",
    "wav_data_restored =np.fft.ifft(fft_filter)       ## No es el mejor porque transformo el brickwall\n",
    "\n",
    "plt.figure(6, figsize=(8,6))\n",
    "plt.title(\"Data Restored\")\n",
    "plt.xlabel(\"Tiempo\")\n",
    "plt.ylabel(f\"Amplitud\")  ## Revisar LaTex\n",
    "plt.plot(t, wav_data,label = \"Datos originales\")\n",
    "plt.plot(t,wav_data_restored, color = \"red\", label = \"Datos recuperados\")\n",
    "plt.legend()\n",
    "plt.grid()\n",
    "plt.show()"
   ]
  },
  {
   "cell_type": "code",
   "execution_count": null,
   "id": "093638c1-d693-423e-9049-4e35db69bb5f",
   "metadata": {},
   "outputs": [],
   "source": []
  }
 ],
 "metadata": {
  "kernelspec": {
   "display_name": "Python 3 (ipykernel)",
   "language": "python",
   "name": "python3"
  },
  "language_info": {
   "codemirror_mode": {
    "name": "ipython",
    "version": 3
   },
   "file_extension": ".py",
   "mimetype": "text/x-python",
   "name": "python",
   "nbconvert_exporter": "python",
   "pygments_lexer": "ipython3",
   "version": "3.10.12"
  }
 },
 "nbformat": 4,
 "nbformat_minor": 5
}
